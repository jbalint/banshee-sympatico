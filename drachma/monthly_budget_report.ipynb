{
 "cells": [
  {
   "cell_type": "code",
   "execution_count": 1,
   "outputs": [],
   "source": [
    "import io\n",
    "import pandas as pd\n",
    "\n",
    "from pathlib import Path\n",
    "\n",
    "import stardog\n",
    "\n",
    "conn = stardog.Connection('bs',\n",
    "                          endpoint='https://localhost:443/stardog',\n",
    "                          username='admin', password='admin')\n"
   ],
   "metadata": {
    "collapsed": false,
    "pycharm": {
     "name": "#%%\n",
     "is_executing": false
    }
   }
  },
  {
   "cell_type": "code",
   "execution_count": 2,
   "outputs": [],
   "source": [
    "query = \"\"\"\n",
    "prefix ledger: <https://github.com/jbalint/ledger-ontology#>\n",
    "\n",
    "select ?category ?year ?month (sum(?amt) as ?spent)\n",
    "from <http://banshee-sympatico/ledger>\n",
    "{\n",
    "{\n",
    "  ?tx a ledger:Payment ; ledger:payee ?payee .\n",
    "  ?tx ledger:time ?time ; ledger:post ?p.\n",
    "  ?p ledger:amount ?pay_amt ; ledger:category ?category\n",
    "  optional { { ?tx ledger:note ?note } union { ?p ledger:note ?note } }\n",
    "  bind(year(?time) as ?year)\n",
    "  bind(month(?time) as ?month)\n",
    "  bind(?pay_amt * -1 as ?amt)\n",
    "}\n",
    "UNION\n",
    "{\n",
    "  ?tx a ledger:Income .\n",
    "  ?tx ledger:time ?time ; ledger:post ?p.\n",
    "  ?p ledger:amount ?amt ; ledger:category ?category\n",
    "  optional { { ?tx ledger:note ?note } union { ?p ledger:note ?note } }\n",
    "  bind(year(?time) as ?year)\n",
    "  bind(month(?time) as ?month)\n",
    "}\n",
    "}\n",
    "group by ?category ?year ?month\n",
    "order by ?category\n",
    "\"\"\""
   ],
   "metadata": {
    "collapsed": false,
    "pycharm": {
     "name": "#%%\n",
     "is_executing": false
    }
   }
  },
  {
   "cell_type": "code",
   "execution_count": 3,
   "outputs": [],
   "source": [
    "# TODO: this query takes 2+ minutes. why?\n",
    "csv_results = conn.select(query, content_type='text/csv')\n",
    "df = pd.read_csv(io.BytesIO(csv_results))"
   ],
   "metadata": {
    "collapsed": false,
    "pycharm": {
     "name": "#%%\n",
     "is_executing": false
    }
   }
  },
  {
   "cell_type": "code",
   "execution_count": 4,
   "outputs": [
    {
     "data": {
      "text/plain": "                                            category  year  month   spent\n0  https://github.com/jbalint/ledger-ontology#Exp...  2005      7  -30.00\n1  https://github.com/jbalint/ledger-ontology#Exp...  2012      4  -36.71\n2  https://github.com/jbalint/ledger-ontology#Exp...  2015     12  -78.74\n3  https://github.com/jbalint/ledger-ontology#Exp...  2011      1 -109.60\n4  https://github.com/jbalint/ledger-ontology#Exp...  2014      1 -105.04",
      "text/html": "<div>\n<style scoped>\n    .dataframe tbody tr th:only-of-type {\n        vertical-align: middle;\n    }\n\n    .dataframe tbody tr th {\n        vertical-align: top;\n    }\n\n    .dataframe thead th {\n        text-align: right;\n    }\n</style>\n<table border=\"1\" class=\"dataframe\">\n  <thead>\n    <tr style=\"text-align: right;\">\n      <th></th>\n      <th>category</th>\n      <th>year</th>\n      <th>month</th>\n      <th>spent</th>\n    </tr>\n  </thead>\n  <tbody>\n    <tr>\n      <th>0</th>\n      <td>https://github.com/jbalint/ledger-ontology#Exp...</td>\n      <td>2005</td>\n      <td>7</td>\n      <td>-30.00</td>\n    </tr>\n    <tr>\n      <th>1</th>\n      <td>https://github.com/jbalint/ledger-ontology#Exp...</td>\n      <td>2012</td>\n      <td>4</td>\n      <td>-36.71</td>\n    </tr>\n    <tr>\n      <th>2</th>\n      <td>https://github.com/jbalint/ledger-ontology#Exp...</td>\n      <td>2015</td>\n      <td>12</td>\n      <td>-78.74</td>\n    </tr>\n    <tr>\n      <th>3</th>\n      <td>https://github.com/jbalint/ledger-ontology#Exp...</td>\n      <td>2011</td>\n      <td>1</td>\n      <td>-109.60</td>\n    </tr>\n    <tr>\n      <th>4</th>\n      <td>https://github.com/jbalint/ledger-ontology#Exp...</td>\n      <td>2014</td>\n      <td>1</td>\n      <td>-105.04</td>\n    </tr>\n  </tbody>\n</table>\n</div>"
     },
     "metadata": {},
     "output_type": "execute_result",
     "execution_count": 4
    }
   ],
   "source": [
    "df.head()"
   ],
   "metadata": {
    "collapsed": false,
    "pycharm": {
     "name": "#%%\n",
     "is_executing": false
    }
   }
  },
  {
   "cell_type": "code",
   "execution_count": 33,
   "outputs": [
    {
     "name": "stderr",
     "text": [
      "/home/jbalint/sw/banshee-sympatico/drachma/venv/lib/python3.7/site-packages/ipykernel_launcher.py:5: SettingWithCopyWarning: \nA value is trying to be set on a copy of a slice from a DataFrame.\nTry using .loc[row_indexer,col_indexer] = value instead\n\nSee the caveats in the documentation: http://pandas.pydata.org/pandas-docs/stable/user_guide/indexing.html#returning-a-view-versus-a-copy\n  \"\"\"\n/home/jbalint/sw/banshee-sympatico/drachma/venv/lib/python3.7/site-packages/ipykernel_launcher.py:6: SettingWithCopyWarning: \nA value is trying to be set on a copy of a slice from a DataFrame.\nTry using .loc[row_indexer,col_indexer] = value instead\n\nSee the caveats in the documentation: http://pandas.pydata.org/pandas-docs/stable/user_guide/indexing.html#returning-a-view-versus-a-copy\n  \n/home/jbalint/sw/banshee-sympatico/drachma/venv/lib/python3.7/site-packages/ipykernel_launcher.py:7: SettingWithCopyWarning: \nA value is trying to be set on a copy of a slice from a DataFrame.\nTry using .loc[row_indexer,col_indexer] = value instead\n\nSee the caveats in the documentation: http://pandas.pydata.org/pandas-docs/stable/user_guide/indexing.html#returning-a-view-versus-a-copy\n  import sys\n"
     ],
     "output_type": "stream"
    },
    {
     "data": {
      "text/plain": "   category  year    month   spent\n5   Alcohol  2019  2019-03 -552.54\n11  Alcohol  2019  2019-11 -181.86\n13  Alcohol  2019  2019-02  -97.79\n16  Alcohol  2019  2019-08 -286.05\n25  Alcohol  2019  2019-06 -236.90",
      "text/html": "<div>\n<style scoped>\n    .dataframe tbody tr th:only-of-type {\n        vertical-align: middle;\n    }\n\n    .dataframe tbody tr th {\n        vertical-align: top;\n    }\n\n    .dataframe thead th {\n        text-align: right;\n    }\n</style>\n<table border=\"1\" class=\"dataframe\">\n  <thead>\n    <tr style=\"text-align: right;\">\n      <th></th>\n      <th>category</th>\n      <th>year</th>\n      <th>month</th>\n      <th>spent</th>\n    </tr>\n  </thead>\n  <tbody>\n    <tr>\n      <th>5</th>\n      <td>Alcohol</td>\n      <td>2019</td>\n      <td>2019-03</td>\n      <td>-552.54</td>\n    </tr>\n    <tr>\n      <th>11</th>\n      <td>Alcohol</td>\n      <td>2019</td>\n      <td>2019-11</td>\n      <td>-181.86</td>\n    </tr>\n    <tr>\n      <th>13</th>\n      <td>Alcohol</td>\n      <td>2019</td>\n      <td>2019-02</td>\n      <td>-97.79</td>\n    </tr>\n    <tr>\n      <th>16</th>\n      <td>Alcohol</td>\n      <td>2019</td>\n      <td>2019-08</td>\n      <td>-286.05</td>\n    </tr>\n    <tr>\n      <th>25</th>\n      <td>Alcohol</td>\n      <td>2019</td>\n      <td>2019-06</td>\n      <td>-236.90</td>\n    </tr>\n  </tbody>\n</table>\n</div>"
     },
     "metadata": {},
     "output_type": "execute_result",
     "execution_count": 33
    }
   ],
   "source": [
    "curr_year = df[df['year'] == 2019]\n",
    "\n",
    "#curr_year[\"year\"] = curr_year[\"year\"].astype(\"str\")\n",
    "#curr_year[\"month2\"] = curr_year[\"year\"] + curr_year[\"month\"].astype(\"str\")\n",
    "curr_year[\"month\"] = curr_year[[\"year\", \"month\"]].apply(lambda x : f\"{x[0]}-{x[1]:02d}\", axis=1)\n",
    "curr_year[\"category\"] = curr_year[\"category\"].str.replace(\"https://github.com/jbalint/ledger-ontology#Expenses\", \"\")\n",
    "curr_year[\"category\"] = curr_year[\"category\"].str.replace(\"https://github.com/jbalint/ledger-ontology#Income\", \"\")\n",
    "\n",
    "curr_year.head()"
   ],
   "metadata": {
    "collapsed": false,
    "pycharm": {
     "name": "#%%\n",
     "is_executing": false
    }
   }
  },
  {
   "cell_type": "code",
   "execution_count": 34,
   "outputs": [
    {
     "data": {
      "text/plain": "                     sum                                                \\\nmonth            2019-01  2019-02  2019-03   2019-04  2019-05  2019-06   \ncategory                                                                 \nAlcohol             0.00   -97.79  -552.54   -146.71  -292.53  -236.90   \nBike                0.00     0.00     0.00      0.00    -9.48  -150.00   \nBooks               0.00     0.00   -13.17      0.00     0.00   -32.36   \nBusiness            0.00     0.00  -186.60      0.00     0.00     0.00   \nCamping             0.00     0.00     0.00      0.00  -274.00   100.50   \nCar               153.09     0.00    -2.00     -8.35  -597.50    -2.00   \nCash             -500.00  -100.75  -200.00    -10.00  -300.00  -150.00   \nCharity             0.00     0.00   -81.41      0.00     0.00     0.00   \nChildren         -409.30   -49.38  -214.58   -628.41  -325.01   -60.00   \nClothes          -351.39  -373.91  -386.75   -313.54  -178.59  -508.85   \nCollege             0.00   -30.00     0.00      0.00     0.00     0.00   \nComputer         -237.60     5.33   -73.06      0.00   -80.52   -67.56   \nDonation          -15.00   -15.00   -15.00    -65.00   -15.00   -65.00   \nDrugs               0.00     0.00     0.00      0.00     0.00     0.00   \nEntertainment     -51.80  -666.19   -32.60   -442.75  -148.61   -80.75   \nFees             -315.32  -208.34  -547.80   -300.33  -261.95  -267.55   \nGas              -201.52  -129.64  -104.59   -182.85  -203.96  -308.12   \nGift              -80.00  -211.33   -95.00   -468.03  -530.09 -7467.65   \nGrocery         -1294.07  -745.42 -1357.27   -764.49 -1264.71  -740.48   \nHomeimprovement     0.00     0.00     0.00      0.00  -195.78     0.00   \nHousehold        -447.02  -175.65  -832.49   -544.07  -745.22  -197.20   \nInternet          -89.76   -86.61  -122.95    -90.82   -86.61   -87.65   \nMedical          -445.47   -72.00  -758.50   -653.93  -668.70  -416.68   \nNone                0.00     0.00  2927.00      0.00     0.00  6200.00   \nPets              -28.47   -62.21  -143.86   -964.72  -934.47  -103.19   \nPhone            -122.14  -157.71  -126.70   -120.23  -156.94  -141.38   \nReimbursement       0.00     0.00     0.00   1469.59     0.00     0.00   \nRent            -1724.47 -1724.47 -1724.47  -1701.92 -1701.92 -1701.92   \nRestaurant       -662.65 -1067.85  -700.08  -1067.67 -1342.53  -977.28   \nSalary           8898.89  8573.37  8570.36  10570.36  8570.37  8570.36   \nTherapy          -308.00  -246.00     0.00   -787.50  -761.00  -480.00   \nTransportation      0.00   -19.40   -40.54    -67.21  -110.99     0.00   \nTravel            -85.68 -1012.77 -1109.24  -1489.60   -20.00 -2005.25   \nUtility          -318.16  -377.82  -380.15   -298.30  -232.89  -228.92   \nAll              1364.16   948.46  1696.01    923.52 -2868.63 -1605.83   \n\n                                                                        \\\nmonth             2019-07  2019-08  2019-09  2019-10  2019-11  2019-12   \ncategory                                                                 \nAlcohol           -248.09  -286.05  -206.15  -243.25  -181.86   -83.06   \nBike                 0.00     0.00     0.00  -212.93     0.00     0.00   \nBooks                0.00     0.00     0.00  -143.61   -51.70   -51.70   \nBusiness             0.00     0.00     0.00     0.00     0.00  -432.60   \nCamping           -199.70   -31.99     0.00     0.00     0.00     0.00   \nCar                 -1.75  -219.89     0.00    -4.90  -536.21     0.00   \nCash              -280.00     0.00  -370.00     0.00     0.00 -1264.22   \nCharity              0.00     0.00     0.00     0.00     0.00     0.00   \nChildren          -296.63  -160.00  -145.00  -211.86   -74.83  -160.00   \nClothes           -494.06  -105.19  -364.04  -406.26  -477.37  -186.87   \nCollege              0.00     0.00     0.00     0.00     0.00     0.00   \nComputer             0.00  -242.64   -99.99     0.00     0.00     0.00   \nDonation           -15.00   -40.00   -35.00   -30.00   -30.00  -172.00   \nDrugs             -120.00     0.00  -130.00     0.00     0.00     0.00   \nEntertainment     -343.82     0.00     0.00  -384.00     0.00   -75.60   \nFees              -374.73  -366.24  -312.20  -348.60  -375.02  -374.96   \nGas               -200.22  -148.52   -83.86   -81.85  -155.43  -211.27   \nGift               -20.00  -383.27     0.00    -7.00   -69.65  -157.56   \nGrocery          -1062.12 -1102.94 -1039.75 -1062.45 -1140.70  -639.58   \nHomeimprovement      0.00  -723.82     0.00 -2319.07  -664.87  -776.07   \nHousehold          -71.51  -503.96 -1551.24  -948.69  -460.95  -635.33   \nInternet           -88.61   -88.61   -99.15   -99.15   -92.83   -94.82   \nMedical           -230.34  -326.62  -398.00  -649.56  -382.53  -310.60   \nNone               200.00     0.00     0.00     0.00     0.00     0.00   \nPets              -128.47   -93.93   -67.08  -198.81     0.00  -216.84   \nPhone             -145.02  -152.82  -139.47  -147.57  -142.92  -138.53   \nReimbursement        0.00     0.00     0.00     0.00   179.12     0.00   \nRent             -1701.92 -1701.92 -1701.92 -1701.92 -1701.92 -1701.92   \nRestaurant        -764.23  -891.81  -855.81 -1001.60  -766.57  -992.47   \nSalary           10920.36  8944.16  8944.15  8944.16  9274.13  9820.22   \nTherapy          -1105.00  -245.00  -652.50  -345.00  -120.00     0.00   \nTransportation       0.00     0.00     0.00  -119.18     0.00  -140.98   \nTravel               0.00     0.00 -4228.48 -2484.46  -525.00  -887.40   \nUtility           -215.32  -356.49  -267.84  -239.39  -216.46  -270.02   \nAll               3013.82   772.45 -3803.33 -4446.95  1286.43  -154.18   \n\n                            \nmonth                  All  \ncategory                    \nAlcohol           -2574.93  \nBike               -372.41  \nBooks              -292.54  \nBusiness           -619.20  \nCamping            -405.19  \nCar               -1219.51  \nCash              -3174.97  \nCharity             -81.41  \nChildren          -2735.00  \nClothes           -4146.82  \nCollege             -30.00  \nComputer           -796.04  \nDonation           -512.00  \nDrugs              -250.00  \nEntertainment     -2226.12  \nFees              -4053.04  \nGas               -2011.83  \nGift              -9489.58  \nGrocery          -12213.98  \nHomeimprovement   -4679.61  \nHousehold         -7113.33  \nInternet          -1127.57  \nMedical           -5312.93  \nNone               9327.00  \nPets              -2942.05  \nPhone             -1691.43  \nReimbursement      1648.71  \nRent             -20490.69  \nRestaurant       -11090.55  \nSalary           110600.89  \nTherapy           -5050.00  \nTransportation     -498.30  \nTravel           -13847.88  \nUtility           -3401.76  \nAll               -2874.07  ",
      "text/html": "<div>\n<style scoped>\n    .dataframe tbody tr th:only-of-type {\n        vertical-align: middle;\n    }\n\n    .dataframe tbody tr th {\n        vertical-align: top;\n    }\n\n    .dataframe thead tr th {\n        text-align: left;\n    }\n\n    .dataframe thead tr:last-of-type th {\n        text-align: right;\n    }\n</style>\n<table border=\"1\" class=\"dataframe\">\n  <thead>\n    <tr>\n      <th></th>\n      <th colspan=\"13\" halign=\"left\">sum</th>\n    </tr>\n    <tr>\n      <th>month</th>\n      <th>2019-01</th>\n      <th>2019-02</th>\n      <th>2019-03</th>\n      <th>2019-04</th>\n      <th>2019-05</th>\n      <th>2019-06</th>\n      <th>2019-07</th>\n      <th>2019-08</th>\n      <th>2019-09</th>\n      <th>2019-10</th>\n      <th>2019-11</th>\n      <th>2019-12</th>\n      <th>All</th>\n    </tr>\n    <tr>\n      <th>category</th>\n      <th></th>\n      <th></th>\n      <th></th>\n      <th></th>\n      <th></th>\n      <th></th>\n      <th></th>\n      <th></th>\n      <th></th>\n      <th></th>\n      <th></th>\n      <th></th>\n      <th></th>\n    </tr>\n  </thead>\n  <tbody>\n    <tr>\n      <th>Alcohol</th>\n      <td>0.00</td>\n      <td>-97.79</td>\n      <td>-552.54</td>\n      <td>-146.71</td>\n      <td>-292.53</td>\n      <td>-236.90</td>\n      <td>-248.09</td>\n      <td>-286.05</td>\n      <td>-206.15</td>\n      <td>-243.25</td>\n      <td>-181.86</td>\n      <td>-83.06</td>\n      <td>-2574.93</td>\n    </tr>\n    <tr>\n      <th>Bike</th>\n      <td>0.00</td>\n      <td>0.00</td>\n      <td>0.00</td>\n      <td>0.00</td>\n      <td>-9.48</td>\n      <td>-150.00</td>\n      <td>0.00</td>\n      <td>0.00</td>\n      <td>0.00</td>\n      <td>-212.93</td>\n      <td>0.00</td>\n      <td>0.00</td>\n      <td>-372.41</td>\n    </tr>\n    <tr>\n      <th>Books</th>\n      <td>0.00</td>\n      <td>0.00</td>\n      <td>-13.17</td>\n      <td>0.00</td>\n      <td>0.00</td>\n      <td>-32.36</td>\n      <td>0.00</td>\n      <td>0.00</td>\n      <td>0.00</td>\n      <td>-143.61</td>\n      <td>-51.70</td>\n      <td>-51.70</td>\n      <td>-292.54</td>\n    </tr>\n    <tr>\n      <th>Business</th>\n      <td>0.00</td>\n      <td>0.00</td>\n      <td>-186.60</td>\n      <td>0.00</td>\n      <td>0.00</td>\n      <td>0.00</td>\n      <td>0.00</td>\n      <td>0.00</td>\n      <td>0.00</td>\n      <td>0.00</td>\n      <td>0.00</td>\n      <td>-432.60</td>\n      <td>-619.20</td>\n    </tr>\n    <tr>\n      <th>Camping</th>\n      <td>0.00</td>\n      <td>0.00</td>\n      <td>0.00</td>\n      <td>0.00</td>\n      <td>-274.00</td>\n      <td>100.50</td>\n      <td>-199.70</td>\n      <td>-31.99</td>\n      <td>0.00</td>\n      <td>0.00</td>\n      <td>0.00</td>\n      <td>0.00</td>\n      <td>-405.19</td>\n    </tr>\n    <tr>\n      <th>Car</th>\n      <td>153.09</td>\n      <td>0.00</td>\n      <td>-2.00</td>\n      <td>-8.35</td>\n      <td>-597.50</td>\n      <td>-2.00</td>\n      <td>-1.75</td>\n      <td>-219.89</td>\n      <td>0.00</td>\n      <td>-4.90</td>\n      <td>-536.21</td>\n      <td>0.00</td>\n      <td>-1219.51</td>\n    </tr>\n    <tr>\n      <th>Cash</th>\n      <td>-500.00</td>\n      <td>-100.75</td>\n      <td>-200.00</td>\n      <td>-10.00</td>\n      <td>-300.00</td>\n      <td>-150.00</td>\n      <td>-280.00</td>\n      <td>0.00</td>\n      <td>-370.00</td>\n      <td>0.00</td>\n      <td>0.00</td>\n      <td>-1264.22</td>\n      <td>-3174.97</td>\n    </tr>\n    <tr>\n      <th>Charity</th>\n      <td>0.00</td>\n      <td>0.00</td>\n      <td>-81.41</td>\n      <td>0.00</td>\n      <td>0.00</td>\n      <td>0.00</td>\n      <td>0.00</td>\n      <td>0.00</td>\n      <td>0.00</td>\n      <td>0.00</td>\n      <td>0.00</td>\n      <td>0.00</td>\n      <td>-81.41</td>\n    </tr>\n    <tr>\n      <th>Children</th>\n      <td>-409.30</td>\n      <td>-49.38</td>\n      <td>-214.58</td>\n      <td>-628.41</td>\n      <td>-325.01</td>\n      <td>-60.00</td>\n      <td>-296.63</td>\n      <td>-160.00</td>\n      <td>-145.00</td>\n      <td>-211.86</td>\n      <td>-74.83</td>\n      <td>-160.00</td>\n      <td>-2735.00</td>\n    </tr>\n    <tr>\n      <th>Clothes</th>\n      <td>-351.39</td>\n      <td>-373.91</td>\n      <td>-386.75</td>\n      <td>-313.54</td>\n      <td>-178.59</td>\n      <td>-508.85</td>\n      <td>-494.06</td>\n      <td>-105.19</td>\n      <td>-364.04</td>\n      <td>-406.26</td>\n      <td>-477.37</td>\n      <td>-186.87</td>\n      <td>-4146.82</td>\n    </tr>\n    <tr>\n      <th>College</th>\n      <td>0.00</td>\n      <td>-30.00</td>\n      <td>0.00</td>\n      <td>0.00</td>\n      <td>0.00</td>\n      <td>0.00</td>\n      <td>0.00</td>\n      <td>0.00</td>\n      <td>0.00</td>\n      <td>0.00</td>\n      <td>0.00</td>\n      <td>0.00</td>\n      <td>-30.00</td>\n    </tr>\n    <tr>\n      <th>Computer</th>\n      <td>-237.60</td>\n      <td>5.33</td>\n      <td>-73.06</td>\n      <td>0.00</td>\n      <td>-80.52</td>\n      <td>-67.56</td>\n      <td>0.00</td>\n      <td>-242.64</td>\n      <td>-99.99</td>\n      <td>0.00</td>\n      <td>0.00</td>\n      <td>0.00</td>\n      <td>-796.04</td>\n    </tr>\n    <tr>\n      <th>Donation</th>\n      <td>-15.00</td>\n      <td>-15.00</td>\n      <td>-15.00</td>\n      <td>-65.00</td>\n      <td>-15.00</td>\n      <td>-65.00</td>\n      <td>-15.00</td>\n      <td>-40.00</td>\n      <td>-35.00</td>\n      <td>-30.00</td>\n      <td>-30.00</td>\n      <td>-172.00</td>\n      <td>-512.00</td>\n    </tr>\n    <tr>\n      <th>Drugs</th>\n      <td>0.00</td>\n      <td>0.00</td>\n      <td>0.00</td>\n      <td>0.00</td>\n      <td>0.00</td>\n      <td>0.00</td>\n      <td>-120.00</td>\n      <td>0.00</td>\n      <td>-130.00</td>\n      <td>0.00</td>\n      <td>0.00</td>\n      <td>0.00</td>\n      <td>-250.00</td>\n    </tr>\n    <tr>\n      <th>Entertainment</th>\n      <td>-51.80</td>\n      <td>-666.19</td>\n      <td>-32.60</td>\n      <td>-442.75</td>\n      <td>-148.61</td>\n      <td>-80.75</td>\n      <td>-343.82</td>\n      <td>0.00</td>\n      <td>0.00</td>\n      <td>-384.00</td>\n      <td>0.00</td>\n      <td>-75.60</td>\n      <td>-2226.12</td>\n    </tr>\n    <tr>\n      <th>Fees</th>\n      <td>-315.32</td>\n      <td>-208.34</td>\n      <td>-547.80</td>\n      <td>-300.33</td>\n      <td>-261.95</td>\n      <td>-267.55</td>\n      <td>-374.73</td>\n      <td>-366.24</td>\n      <td>-312.20</td>\n      <td>-348.60</td>\n      <td>-375.02</td>\n      <td>-374.96</td>\n      <td>-4053.04</td>\n    </tr>\n    <tr>\n      <th>Gas</th>\n      <td>-201.52</td>\n      <td>-129.64</td>\n      <td>-104.59</td>\n      <td>-182.85</td>\n      <td>-203.96</td>\n      <td>-308.12</td>\n      <td>-200.22</td>\n      <td>-148.52</td>\n      <td>-83.86</td>\n      <td>-81.85</td>\n      <td>-155.43</td>\n      <td>-211.27</td>\n      <td>-2011.83</td>\n    </tr>\n    <tr>\n      <th>Gift</th>\n      <td>-80.00</td>\n      <td>-211.33</td>\n      <td>-95.00</td>\n      <td>-468.03</td>\n      <td>-530.09</td>\n      <td>-7467.65</td>\n      <td>-20.00</td>\n      <td>-383.27</td>\n      <td>0.00</td>\n      <td>-7.00</td>\n      <td>-69.65</td>\n      <td>-157.56</td>\n      <td>-9489.58</td>\n    </tr>\n    <tr>\n      <th>Grocery</th>\n      <td>-1294.07</td>\n      <td>-745.42</td>\n      <td>-1357.27</td>\n      <td>-764.49</td>\n      <td>-1264.71</td>\n      <td>-740.48</td>\n      <td>-1062.12</td>\n      <td>-1102.94</td>\n      <td>-1039.75</td>\n      <td>-1062.45</td>\n      <td>-1140.70</td>\n      <td>-639.58</td>\n      <td>-12213.98</td>\n    </tr>\n    <tr>\n      <th>Homeimprovement</th>\n      <td>0.00</td>\n      <td>0.00</td>\n      <td>0.00</td>\n      <td>0.00</td>\n      <td>-195.78</td>\n      <td>0.00</td>\n      <td>0.00</td>\n      <td>-723.82</td>\n      <td>0.00</td>\n      <td>-2319.07</td>\n      <td>-664.87</td>\n      <td>-776.07</td>\n      <td>-4679.61</td>\n    </tr>\n    <tr>\n      <th>Household</th>\n      <td>-447.02</td>\n      <td>-175.65</td>\n      <td>-832.49</td>\n      <td>-544.07</td>\n      <td>-745.22</td>\n      <td>-197.20</td>\n      <td>-71.51</td>\n      <td>-503.96</td>\n      <td>-1551.24</td>\n      <td>-948.69</td>\n      <td>-460.95</td>\n      <td>-635.33</td>\n      <td>-7113.33</td>\n    </tr>\n    <tr>\n      <th>Internet</th>\n      <td>-89.76</td>\n      <td>-86.61</td>\n      <td>-122.95</td>\n      <td>-90.82</td>\n      <td>-86.61</td>\n      <td>-87.65</td>\n      <td>-88.61</td>\n      <td>-88.61</td>\n      <td>-99.15</td>\n      <td>-99.15</td>\n      <td>-92.83</td>\n      <td>-94.82</td>\n      <td>-1127.57</td>\n    </tr>\n    <tr>\n      <th>Medical</th>\n      <td>-445.47</td>\n      <td>-72.00</td>\n      <td>-758.50</td>\n      <td>-653.93</td>\n      <td>-668.70</td>\n      <td>-416.68</td>\n      <td>-230.34</td>\n      <td>-326.62</td>\n      <td>-398.00</td>\n      <td>-649.56</td>\n      <td>-382.53</td>\n      <td>-310.60</td>\n      <td>-5312.93</td>\n    </tr>\n    <tr>\n      <th>None</th>\n      <td>0.00</td>\n      <td>0.00</td>\n      <td>2927.00</td>\n      <td>0.00</td>\n      <td>0.00</td>\n      <td>6200.00</td>\n      <td>200.00</td>\n      <td>0.00</td>\n      <td>0.00</td>\n      <td>0.00</td>\n      <td>0.00</td>\n      <td>0.00</td>\n      <td>9327.00</td>\n    </tr>\n    <tr>\n      <th>Pets</th>\n      <td>-28.47</td>\n      <td>-62.21</td>\n      <td>-143.86</td>\n      <td>-964.72</td>\n      <td>-934.47</td>\n      <td>-103.19</td>\n      <td>-128.47</td>\n      <td>-93.93</td>\n      <td>-67.08</td>\n      <td>-198.81</td>\n      <td>0.00</td>\n      <td>-216.84</td>\n      <td>-2942.05</td>\n    </tr>\n    <tr>\n      <th>Phone</th>\n      <td>-122.14</td>\n      <td>-157.71</td>\n      <td>-126.70</td>\n      <td>-120.23</td>\n      <td>-156.94</td>\n      <td>-141.38</td>\n      <td>-145.02</td>\n      <td>-152.82</td>\n      <td>-139.47</td>\n      <td>-147.57</td>\n      <td>-142.92</td>\n      <td>-138.53</td>\n      <td>-1691.43</td>\n    </tr>\n    <tr>\n      <th>Reimbursement</th>\n      <td>0.00</td>\n      <td>0.00</td>\n      <td>0.00</td>\n      <td>1469.59</td>\n      <td>0.00</td>\n      <td>0.00</td>\n      <td>0.00</td>\n      <td>0.00</td>\n      <td>0.00</td>\n      <td>0.00</td>\n      <td>179.12</td>\n      <td>0.00</td>\n      <td>1648.71</td>\n    </tr>\n    <tr>\n      <th>Rent</th>\n      <td>-1724.47</td>\n      <td>-1724.47</td>\n      <td>-1724.47</td>\n      <td>-1701.92</td>\n      <td>-1701.92</td>\n      <td>-1701.92</td>\n      <td>-1701.92</td>\n      <td>-1701.92</td>\n      <td>-1701.92</td>\n      <td>-1701.92</td>\n      <td>-1701.92</td>\n      <td>-1701.92</td>\n      <td>-20490.69</td>\n    </tr>\n    <tr>\n      <th>Restaurant</th>\n      <td>-662.65</td>\n      <td>-1067.85</td>\n      <td>-700.08</td>\n      <td>-1067.67</td>\n      <td>-1342.53</td>\n      <td>-977.28</td>\n      <td>-764.23</td>\n      <td>-891.81</td>\n      <td>-855.81</td>\n      <td>-1001.60</td>\n      <td>-766.57</td>\n      <td>-992.47</td>\n      <td>-11090.55</td>\n    </tr>\n    <tr>\n      <th>Salary</th>\n      <td>8898.89</td>\n      <td>8573.37</td>\n      <td>8570.36</td>\n      <td>10570.36</td>\n      <td>8570.37</td>\n      <td>8570.36</td>\n      <td>10920.36</td>\n      <td>8944.16</td>\n      <td>8944.15</td>\n      <td>8944.16</td>\n      <td>9274.13</td>\n      <td>9820.22</td>\n      <td>110600.89</td>\n    </tr>\n    <tr>\n      <th>Therapy</th>\n      <td>-308.00</td>\n      <td>-246.00</td>\n      <td>0.00</td>\n      <td>-787.50</td>\n      <td>-761.00</td>\n      <td>-480.00</td>\n      <td>-1105.00</td>\n      <td>-245.00</td>\n      <td>-652.50</td>\n      <td>-345.00</td>\n      <td>-120.00</td>\n      <td>0.00</td>\n      <td>-5050.00</td>\n    </tr>\n    <tr>\n      <th>Transportation</th>\n      <td>0.00</td>\n      <td>-19.40</td>\n      <td>-40.54</td>\n      <td>-67.21</td>\n      <td>-110.99</td>\n      <td>0.00</td>\n      <td>0.00</td>\n      <td>0.00</td>\n      <td>0.00</td>\n      <td>-119.18</td>\n      <td>0.00</td>\n      <td>-140.98</td>\n      <td>-498.30</td>\n    </tr>\n    <tr>\n      <th>Travel</th>\n      <td>-85.68</td>\n      <td>-1012.77</td>\n      <td>-1109.24</td>\n      <td>-1489.60</td>\n      <td>-20.00</td>\n      <td>-2005.25</td>\n      <td>0.00</td>\n      <td>0.00</td>\n      <td>-4228.48</td>\n      <td>-2484.46</td>\n      <td>-525.00</td>\n      <td>-887.40</td>\n      <td>-13847.88</td>\n    </tr>\n    <tr>\n      <th>Utility</th>\n      <td>-318.16</td>\n      <td>-377.82</td>\n      <td>-380.15</td>\n      <td>-298.30</td>\n      <td>-232.89</td>\n      <td>-228.92</td>\n      <td>-215.32</td>\n      <td>-356.49</td>\n      <td>-267.84</td>\n      <td>-239.39</td>\n      <td>-216.46</td>\n      <td>-270.02</td>\n      <td>-3401.76</td>\n    </tr>\n    <tr>\n      <th>All</th>\n      <td>1364.16</td>\n      <td>948.46</td>\n      <td>1696.01</td>\n      <td>923.52</td>\n      <td>-2868.63</td>\n      <td>-1605.83</td>\n      <td>3013.82</td>\n      <td>772.45</td>\n      <td>-3803.33</td>\n      <td>-4446.95</td>\n      <td>1286.43</td>\n      <td>-154.18</td>\n      <td>-2874.07</td>\n    </tr>\n  </tbody>\n</table>\n</div>"
     },
     "metadata": {},
     "output_type": "execute_result",
     "execution_count": 34
    }
   ],
   "source": [
    "curr_year.pivot_table(values=\"spent\", index=[\"category\"], columns=\"month\", aggfunc=[sum], fill_value=0, margins=True)"
   ],
   "metadata": {
    "collapsed": false,
    "pycharm": {
     "name": "#%%\n",
     "is_executing": false
    }
   }
  },
  {
   "cell_type": "code",
   "execution_count": 37,
   "outputs": [
    {
     "data": {
      "text/plain": "category\nRent               -20490.69\nTravel             -13847.88\nGrocery            -12213.98\nRestaurant         -11090.55\nGift                -9489.58\nHousehold           -7113.33\nMedical             -5312.93\nTherapy             -5050.00\nHomeimprovement     -4679.61\nClothes             -4146.82\nFees                -4053.04\nUtility             -3401.76\nCash                -3174.97\nPets                -2942.05\nChildren            -2735.00\nAlcohol             -2574.93\nEntertainment       -2226.12\nGas                 -2011.83\nPhone               -1691.43\nCar                 -1219.51\nInternet            -1127.57\nComputer             -796.04\nBusiness             -619.20\nDonation             -512.00\nTransportation       -498.30\nCamping              -405.19\nBike                 -372.41\nBooks                -292.54\nDrugs                -250.00\nCharity               -81.41\nCollege               -30.00\nReimbursement        1648.71\nNone                 9327.00\nSalary             110600.89\nName: spent, dtype: float64"
     },
     "metadata": {},
     "output_type": "execute_result",
     "execution_count": 37
    }
   ],
   "source": [
    "curr_year.groupby([\"category\"])[\"spent\"].sum().sort_values()"
   ],
   "metadata": {
    "collapsed": false,
    "pycharm": {
     "name": "#%%\n",
     "is_executing": false
    }
   }
  }
 ],
 "metadata": {
  "kernelspec": {
   "display_name": "Python 3",
   "language": "python",
   "name": "python3"
  },
  "language_info": {
   "codemirror_mode": {
    "name": "ipython",
    "version": 2
   },
   "file_extension": ".py",
   "mimetype": "text/x-python",
   "name": "python",
   "nbconvert_exporter": "python",
   "pygments_lexer": "ipython2",
   "version": "2.7.6"
  },
  "pycharm": {
   "stem_cell": {
    "cell_type": "raw",
    "source": [],
    "metadata": {
     "collapsed": false
    }
   }
  }
 },
 "nbformat": 4,
 "nbformat_minor": 0
}
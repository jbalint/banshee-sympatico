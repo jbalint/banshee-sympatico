{
 "cells": [
  {
   "cell_type": "markdown",
   "metadata": {},
   "source": [
    "# Daily Budget Report"
   ]
  },
  {
   "cell_type": "code",
   "execution_count": null,
   "metadata": {
    "pycharm": {
     "is_executing": false,
     "name": "#%%\n"
    }
   },
   "outputs": [],
   "source": [
    "# This file should include the parameters\n",
    "\n",
    "from daily_budget_report_local_constants import spend_limit\n",
    "\n",
    "spend_limit"
   ]
  },
  {
   "cell_type": "code",
   "execution_count": null,
   "metadata": {
    "pycharm": {
     "is_executing": false,
     "name": "#%%\n"
    }
   },
   "outputs": [],
   "source": [
    "import io\n",
    "import pandas as pd\n",
    "\n",
    "from pathlib import Path\n",
    "\n",
    "import stardog\n",
    "\n",
    "conn = stardog.Connection('bs',\n",
    "                          endpoint='https://localhost:443/stardog',\n",
    "                          username='admin', password='admin')"
   ]
  },
  {
   "cell_type": "code",
   "execution_count": null,
   "metadata": {
    "pycharm": {
     "is_executing": false,
     "name": "#%%\n"
    }
   },
   "outputs": [],
   "source": [
    "query_text = Path('monthly_spend.rq').read_text()\n",
    "csv_results = conn.select(query_text, content_type='text/csv')\n",
    "monthly_spend_txns = pd.read_csv(io.BytesIO(csv_results))"
   ]
  },
  {
   "cell_type": "code",
   "execution_count": null,
   "metadata": {
    "pycharm": {
     "is_executing": false,
     "name": "#%%\n"
    }
   },
   "outputs": [],
   "source": [
    "print(f\"Imported {len(monthly_spend_txns)} txns\")\n",
    "\n",
    "monthly_spend_txns.head()"
   ]
  },
  {
   "cell_type": "code",
   "execution_count": null,
   "metadata": {
    "pycharm": {
     "is_executing": false,
     "name": "#%%\n"
    }
   },
   "outputs": [],
   "source": [
    "monthly_spend_txns[\"date\"] = pd.to_datetime(monthly_spend_txns[\"date\"], format=\"%Y-%m-%dZ\")\n",
    "monthly_spend_txns = monthly_spend_txns.sort_values(by=\"date\")\n",
    "monthly_spend_txns[\"category\"] = monthly_spend_txns[\"category\"].str.replace(\"https://github.com/jbalint/ledger-ontology#Expenses\", \"\")\n",
    "monthly_spend_txns[\"payee\"] = monthly_spend_txns[\"payee\"].str.slice(0,20)\n",
    "monthly_spend_txns.dtypes"
   ]
  },
  {
   "cell_type": "code",
   "execution_count": null,
   "metadata": {
    "pycharm": {
     "is_executing": false,
     "name": "#%%\n"
    }
   },
   "outputs": [],
   "source": [
    "monthly_spend_txns[\"cumsum\"] = monthly_spend_txns[\"amt\"].cumsum()"
   ]
  },
  {
   "cell_type": "code",
   "execution_count": null,
   "metadata": {
    "pycharm": {
     "is_executing": false,
     "name": "#%%\n"
    }
   },
   "outputs": [],
   "source": [
    "monthly_spend_txns.head()"
   ]
  },
  {
   "cell_type": "code",
   "execution_count": null,
   "metadata": {
    "pycharm": {
     "is_executing": false,
     "name": "#%%\n"
    }
   },
   "outputs": [],
   "source": [
    "monthly_spend_txns[\"category\"].unique()"
   ]
  },
  {
   "cell_type": "code",
   "execution_count": null,
   "metadata": {
    "pycharm": {
     "is_executing": false,
     "name": "#%%\n"
    }
   },
   "outputs": [],
   "source": [
    "from bokeh.io import output_notebook, show\n",
    "output_notebook()\n",
    "\n",
    "from bokeh.plotting import figure, output_file, show\n",
    "\n",
    "from bokeh.models import CategoricalColorMapper, HoverTool, Span\n",
    "\n",
    "from bokeh.palettes import Category20"
   ]
  },
  {
   "cell_type": "code",
   "execution_count": null,
   "metadata": {
    "pycharm": {
     "is_executing": false,
     "name": "#%%\n"
    }
   },
   "outputs": [],
   "source": [
    "# https://docs.bokeh.org/en/latest/docs/user_guide/categorical.html\n",
    "palette = Category20[20]\n",
    "color_map = CategoricalColorMapper(factors=monthly_spend_txns[\"category\"].unique(),\n",
    "                                   palette=palette)"
   ]
  },
  {
   "cell_type": "code",
   "execution_count": null,
   "metadata": {
    "pycharm": {
     "is_executing": false
    }
   },
   "outputs": [],
   "source": [
    "TOOLTIPS = [\n",
    "    (\"payee\", \"@payee\"),\n",
    "    (\"amt\", \"@amt\"),\n",
    "    (\"category\", \"@category\"),\n",
    "    (\"total\", \"@cumsum\"),\n",
    "]\n",
    "\n",
    "# create a new plot\n",
    "p = figure(\n",
    "    tools=[\"pan\", \"box_zoom\",\"reset\",\"save\",HoverTool(tooltips=TOOLTIPS)],\n",
    "    title=\"monthly spending\",\n",
    "    x_axis_label='date',\n",
    "    y_axis_label='spend',\n",
    "    x_axis_type=\"datetime\",\n",
    "    plot_width=900,\n",
    "    # This manually gives space for the legend on the left\n",
    "    x_range=(monthly_spend_txns[\"date\"].min() - pd.Timedelta(days=9),\n",
    "             monthly_spend_txns[\"date\"].min() + pd.Timedelta(days=34)),\n",
    "    y_range=(0, max([spend_limit, monthly_spend_txns[\"amt\"].sum()]) * 1.05)\n",
    ")\n",
    "\n",
    "p.circle(x=\"date\", y=\"cumsum\", source=monthly_spend_txns,\n",
    "         size=8,\n",
    "         color={'field': 'category', 'transform': color_map},\n",
    "         legend_field=\"category\")\n",
    "\n",
    "p.legend.location = \"top_left\"\n",
    "\n",
    "p.renderers.extend([Span(location=spend_limit, dimension='width', line_color=\"red\", line_dash='dashed', line_width=3)])\n",
    "\n",
    "show(p)"
   ]
  },
  {
   "cell_type": "code",
   "execution_count": null,
   "metadata": {
    "jupyter": {
     "outputs_hidden": false
    },
    "pycharm": {
     "is_executing": false,
     "name": "#%%\n"
    }
   },
   "outputs": [],
   "source": [
    "monthly_spend_txns.groupby([\"category\"])[\"amt\"].sum()"
   ]
  },
  {
   "cell_type": "code",
   "execution_count": null,
   "metadata": {
    "pycharm": {
     "is_executing": false
    }
   },
   "outputs": [],
   "source": [
    "with pd.option_context('display.max_rows', None, 'display.max_columns', None):  # more options can be specified also\n",
    "    display(monthly_spend_txns)"
   ]
  },
  {
   "cell_type": "markdown",
   "metadata": {},
   "source": [
    " # Grooming Income Report"
   ]
  },
  {
   "cell_type": "code",
   "execution_count": null,
   "metadata": {},
   "outputs": [],
   "source": [
    "query_text = Path('grooming_income.rq').read_text()\n",
    "csv_results = conn.select(query_text, content_type='text/csv')\n",
    "grooming_appointments = pd.read_csv(io.BytesIO(csv_results))\n",
    "grooming_appointments[\"tip\"] = grooming_appointments[\"tip\"].fillna(0)\n",
    "grooming_appointments[\"cumsum\"] = (grooming_appointments[\"price\"] + grooming_appointments[\"tip\"]).cumsum()"
   ]
  },
  {
   "cell_type": "code",
   "execution_count": null,
   "metadata": {},
   "outputs": [],
   "source": [
    "with pd.option_context('display.max_rows', None, 'display.max_columns', None):\n",
    "    display(grooming_appointments)"
   ]
  }
 ],
 "metadata": {
  "kernelspec": {
   "display_name": "Python 3",
   "language": "python",
   "name": "python3"
  },
  "language_info": {
   "codemirror_mode": {
    "name": "ipython",
    "version": 3
   },
   "file_extension": ".py",
   "mimetype": "text/x-python",
   "name": "python",
   "nbconvert_exporter": "python",
   "pygments_lexer": "ipython3",
   "version": "3.8.6"
  },
  "pycharm": {
   "stem_cell": {
    "cell_type": "raw",
    "metadata": {
     "collapsed": false
    },
    "source": []
   }
  }
 },
 "nbformat": 4,
 "nbformat_minor": 4
}
